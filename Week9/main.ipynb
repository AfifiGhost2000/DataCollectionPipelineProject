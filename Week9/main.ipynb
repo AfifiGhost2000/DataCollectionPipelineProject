{
 "cells": [
  {
   "cell_type": "code",
   "execution_count": 354,
   "metadata": {},
   "outputs": [],
   "source": [
    "from pydrive.auth import GoogleAuth\n",
    "from pydrive.drive import GoogleDrive\n",
    "import pandas as pd\n",
    "from os.path import exists as file_exists\n",
    "import re\n",
    "import numpy as np\n",
    "import matplotlib.pyplot as plt\n",
    "import scipy.stats as stats"
   ]
  },
  {
   "cell_type": "code",
   "execution_count": 355,
   "metadata": {},
   "outputs": [
    {
     "name": "stderr",
     "output_type": "stream",
     "text": [
      "C:\\Users\\abdul\\AppData\\Local\\Temp\\ipykernel_2900\\2245982126.py:23: FutureWarning: In a future version of pandas all arguments of DataFrame.dropna will be keyword-only.\n",
      "  df.dropna(0,inplace=True)\n"
     ]
    }
   ],
   "source": [
    "\n",
    "  \n",
    "# Initialize GoogleDriveFile instance with file id\n",
    "if (file_exists('Customer Info(Responses).xls') == False):\n",
    "    \n",
    "    # Initializing a GoogleAuth Object\n",
    "    gauth = GoogleAuth()\n",
    "    \n",
    "    # client_secrets.json file is verified\n",
    "    # and it automatically handles authentication\n",
    "    gauth.LocalWebserverAuth()\n",
    "    \n",
    "    # GoogleDrive Instance is created using\n",
    "    # authenticated GoogleAuth instance\n",
    "    drive = GoogleDrive(gauth)\n",
    "    file_obj = drive.CreateFile({'id': '1BeZVLRL4QPNgj640lZoyu2u9CSgCIRlWVDb0EwvSa6E'})\n",
    "    file_obj.GetContentFile('Customer Info(Responses).xls',\n",
    "         mimetype='application/vnd.openxmlformats-officedocument.spreadsheetml.sheet')\n",
    "else:\n",
    "    df = pd.read_excel('Customer Info(Responses).xls')\n",
    "    df.drop_duplicates(inplace=True)\n",
    "    #dedup check\n",
    "    #dp = df.duplicated()\n",
    "    #print(dp.sum())\n",
    "    df.dropna(0,inplace=True)\n",
    "    \n",
    "    df.rename(columns={'Rate your satisfaction at our company.':'Satisfaction Rate', 'What is your average monthly income?' : 'Avg Monthly Income'},inplace=True)"
   ]
  },
  {
   "cell_type": "code",
   "execution_count": 356,
   "metadata": {},
   "outputs": [],
   "source": [
    "def extract_email_ID(string):\n",
    "    email = re.findall(r'(.+?)@', string)\n",
    "    \n",
    "    return email[0] if email else np.nan"
   ]
  },
  {
   "cell_type": "code",
   "execution_count": 357,
   "metadata": {},
   "outputs": [],
   "source": [
    "df['Avg Monthly Income'] = df['Avg Monthly Income'].replace('[\\$,]', '', regex=True).astype(float)\n"
   ]
  },
  {
   "cell_type": "code",
   "execution_count": 358,
   "metadata": {},
   "outputs": [],
   "source": [
    "def indices(lst, item):\n",
    "   return [i for i, x in enumerate(lst) if x == item]"
   ]
  },
  {
   "cell_type": "code",
   "execution_count": 359,
   "metadata": {},
   "outputs": [
    {
     "name": "stdout",
     "output_type": "stream",
     "text": [
      "No duplicate emails found!\n"
     ]
    }
   ],
   "source": [
    "emails = []\n",
    "for email in df['Email']:\n",
    "    emails.append(extract_email_ID(email))\n",
    "\n",
    "indiceslist = []\n",
    "count = 0\n",
    "\n",
    "for email in emails:\n",
    "    indiceslist = indices(emails,email)\n",
    "    if(len(indiceslist) > 1):\n",
    "        count+=1\n",
    "        for i in indiceslist:\n",
    "            df.drop(i,inplace=True)\n",
    "\n",
    "\n",
    "\n",
    "if(count == 0):\n",
    "    print('No duplicate emails found!')\n",
    "    "
   ]
  },
  {
   "cell_type": "code",
   "execution_count": 360,
   "metadata": {},
   "outputs": [
    {
     "data": {
      "text/html": [
       "<div>\n",
       "<style scoped>\n",
       "    .dataframe tbody tr th:only-of-type {\n",
       "        vertical-align: middle;\n",
       "    }\n",
       "\n",
       "    .dataframe tbody tr th {\n",
       "        vertical-align: top;\n",
       "    }\n",
       "\n",
       "    .dataframe thead th {\n",
       "        text-align: right;\n",
       "    }\n",
       "</style>\n",
       "<table border=\"1\" class=\"dataframe\">\n",
       "  <thead>\n",
       "    <tr style=\"text-align: right;\">\n",
       "      <th></th>\n",
       "      <th>Timestamp</th>\n",
       "      <th>Name</th>\n",
       "      <th>Country</th>\n",
       "      <th>Age</th>\n",
       "      <th>Email</th>\n",
       "      <th>Address</th>\n",
       "      <th>Phone number</th>\n",
       "      <th>Gender</th>\n",
       "      <th>Satisfaction Rate</th>\n",
       "      <th>Avg Monthly Income</th>\n",
       "    </tr>\n",
       "  </thead>\n",
       "  <tbody>\n",
       "    <tr>\n",
       "      <th>0</th>\n",
       "      <td>1/30/2023 17:57:49</td>\n",
       "      <td>Abdulrahman Afifi</td>\n",
       "      <td>Egypt</td>\n",
       "      <td>22</td>\n",
       "      <td>abdulrahmanafifi33@gmail.com</td>\n",
       "      <td>Nardenk Sokağı, Abbasağa Mahallesi 34022, Ista...</td>\n",
       "      <td>905528499159</td>\n",
       "      <td>Male</td>\n",
       "      <td>4</td>\n",
       "      <td>25000.0</td>\n",
       "    </tr>\n",
       "    <tr>\n",
       "      <th>1</th>\n",
       "      <td>1/30/2023 18:05:17</td>\n",
       "      <td>Alex John</td>\n",
       "      <td>Argentina</td>\n",
       "      <td>34</td>\n",
       "      <td>alex.john35@gmail.com</td>\n",
       "      <td>Ariensplein 1, Enschede, Netherlands</td>\n",
       "      <td>31684475461</td>\n",
       "      <td>Male</td>\n",
       "      <td>3</td>\n",
       "      <td>34000.0</td>\n",
       "    </tr>\n",
       "    <tr>\n",
       "      <th>2</th>\n",
       "      <td>1/30/2023 18:08:13</td>\n",
       "      <td>Rebecca David</td>\n",
       "      <td>London</td>\n",
       "      <td>45</td>\n",
       "      <td>rebecca49david@gmail.com</td>\n",
       "      <td>Beşiktaş İstanbul ıhlamurdere caddesi, Aşık Ga...</td>\n",
       "      <td>415521701586</td>\n",
       "      <td>Female</td>\n",
       "      <td>1</td>\n",
       "      <td>12000.0</td>\n",
       "    </tr>\n",
       "  </tbody>\n",
       "</table>\n",
       "</div>"
      ],
      "text/plain": [
       "            Timestamp               Name    Country  Age  \\\n",
       "0  1/30/2023 17:57:49  Abdulrahman Afifi      Egypt   22   \n",
       "1  1/30/2023 18:05:17          Alex John  Argentina   34   \n",
       "2  1/30/2023 18:08:13      Rebecca David     London   45   \n",
       "\n",
       "                          Email  \\\n",
       "0  abdulrahmanafifi33@gmail.com   \n",
       "1         alex.john35@gmail.com   \n",
       "2      rebecca49david@gmail.com   \n",
       "\n",
       "                                             Address  Phone number  Gender  \\\n",
       "0  Nardenk Sokağı, Abbasağa Mahallesi 34022, Ista...  905528499159    Male   \n",
       "1               Ariensplein 1, Enschede, Netherlands   31684475461    Male   \n",
       "2  Beşiktaş İstanbul ıhlamurdere caddesi, Aşık Ga...  415521701586  Female   \n",
       "\n",
       "   Satisfaction Rate  Avg Monthly Income  \n",
       "0                  4             25000.0  \n",
       "1                  3             34000.0  \n",
       "2                  1             12000.0  "
      ]
     },
     "execution_count": 360,
     "metadata": {},
     "output_type": "execute_result"
    }
   ],
   "source": [
    "df.head()"
   ]
  },
  {
   "cell_type": "code",
   "execution_count": 361,
   "metadata": {},
   "outputs": [
    {
     "data": {
      "text/html": [
       "<div>\n",
       "<style scoped>\n",
       "    .dataframe tbody tr th:only-of-type {\n",
       "        vertical-align: middle;\n",
       "    }\n",
       "\n",
       "    .dataframe tbody tr th {\n",
       "        vertical-align: top;\n",
       "    }\n",
       "\n",
       "    .dataframe thead th {\n",
       "        text-align: right;\n",
       "    }\n",
       "</style>\n",
       "<table border=\"1\" class=\"dataframe\">\n",
       "  <thead>\n",
       "    <tr style=\"text-align: right;\">\n",
       "      <th></th>\n",
       "      <th>Timestamp</th>\n",
       "      <th>Name</th>\n",
       "      <th>Country</th>\n",
       "      <th>Age</th>\n",
       "      <th>Email</th>\n",
       "      <th>Address</th>\n",
       "      <th>Phone number</th>\n",
       "      <th>Gender</th>\n",
       "      <th>Satisfaction Rate</th>\n",
       "      <th>Avg Monthly Income</th>\n",
       "      <th>hour</th>\n",
       "      <th>minute</th>\n",
       "      <th>second</th>\n",
       "    </tr>\n",
       "  </thead>\n",
       "  <tbody>\n",
       "    <tr>\n",
       "      <th>0</th>\n",
       "      <td>2023-01-30 17:57:49</td>\n",
       "      <td>Abdulrahman Afifi</td>\n",
       "      <td>Egypt</td>\n",
       "      <td>22</td>\n",
       "      <td>abdulrahmanafifi33@gmail.com</td>\n",
       "      <td>Nardenk Sokağı, Abbasağa Mahallesi 34022, Ista...</td>\n",
       "      <td>905528499159</td>\n",
       "      <td>Male</td>\n",
       "      <td>4</td>\n",
       "      <td>25000.0</td>\n",
       "      <td>17</td>\n",
       "      <td>57</td>\n",
       "      <td>49</td>\n",
       "    </tr>\n",
       "    <tr>\n",
       "      <th>1</th>\n",
       "      <td>2023-01-30 18:05:17</td>\n",
       "      <td>Alex John</td>\n",
       "      <td>Argentina</td>\n",
       "      <td>34</td>\n",
       "      <td>alex.john35@gmail.com</td>\n",
       "      <td>Ariensplein 1, Enschede, Netherlands</td>\n",
       "      <td>31684475461</td>\n",
       "      <td>Male</td>\n",
       "      <td>3</td>\n",
       "      <td>34000.0</td>\n",
       "      <td>18</td>\n",
       "      <td>5</td>\n",
       "      <td>17</td>\n",
       "    </tr>\n",
       "    <tr>\n",
       "      <th>2</th>\n",
       "      <td>2023-01-30 18:08:13</td>\n",
       "      <td>Rebecca David</td>\n",
       "      <td>London</td>\n",
       "      <td>45</td>\n",
       "      <td>rebecca49david@gmail.com</td>\n",
       "      <td>Beşiktaş İstanbul ıhlamurdere caddesi, Aşık Ga...</td>\n",
       "      <td>415521701586</td>\n",
       "      <td>Female</td>\n",
       "      <td>1</td>\n",
       "      <td>12000.0</td>\n",
       "      <td>18</td>\n",
       "      <td>8</td>\n",
       "      <td>13</td>\n",
       "    </tr>\n",
       "  </tbody>\n",
       "</table>\n",
       "</div>"
      ],
      "text/plain": [
       "            Timestamp               Name    Country  Age  \\\n",
       "0 2023-01-30 17:57:49  Abdulrahman Afifi      Egypt   22   \n",
       "1 2023-01-30 18:05:17          Alex John  Argentina   34   \n",
       "2 2023-01-30 18:08:13      Rebecca David     London   45   \n",
       "\n",
       "                          Email  \\\n",
       "0  abdulrahmanafifi33@gmail.com   \n",
       "1         alex.john35@gmail.com   \n",
       "2      rebecca49david@gmail.com   \n",
       "\n",
       "                                             Address  Phone number  Gender  \\\n",
       "0  Nardenk Sokağı, Abbasağa Mahallesi 34022, Ista...  905528499159    Male   \n",
       "1               Ariensplein 1, Enschede, Netherlands   31684475461    Male   \n",
       "2  Beşiktaş İstanbul ıhlamurdere caddesi, Aşık Ga...  415521701586  Female   \n",
       "\n",
       "   Satisfaction Rate  Avg Monthly Income  hour  minute  second  \n",
       "0                  4             25000.0    17      57      49  \n",
       "1                  3             34000.0    18       5      17  \n",
       "2                  1             12000.0    18       8      13  "
      ]
     },
     "execution_count": 361,
     "metadata": {},
     "output_type": "execute_result"
    }
   ],
   "source": [
    "df['Timestamp'] = pd.to_datetime(df['Timestamp'])\n",
    "df['hour'] = df['Timestamp'].dt.hour\n",
    "df['minute'] = df['Timestamp'].dt.minute\n",
    "df['second'] = df['Timestamp'].dt.second\n",
    "df.head()"
   ]
  },
  {
   "cell_type": "code",
   "execution_count": 362,
   "metadata": {},
   "outputs": [
    {
     "data": {
      "text/html": [
       "<div>\n",
       "<style scoped>\n",
       "    .dataframe tbody tr th:only-of-type {\n",
       "        vertical-align: middle;\n",
       "    }\n",
       "\n",
       "    .dataframe tbody tr th {\n",
       "        vertical-align: top;\n",
       "    }\n",
       "\n",
       "    .dataframe thead th {\n",
       "        text-align: right;\n",
       "    }\n",
       "</style>\n",
       "<table border=\"1\" class=\"dataframe\">\n",
       "  <thead>\n",
       "    <tr style=\"text-align: right;\">\n",
       "      <th></th>\n",
       "      <th>Timestamp</th>\n",
       "      <th>hour</th>\n",
       "      <th>minute</th>\n",
       "      <th>second</th>\n",
       "      <th>Name</th>\n",
       "      <th>Country</th>\n",
       "      <th>Age</th>\n",
       "      <th>Email</th>\n",
       "      <th>Address</th>\n",
       "      <th>Country Code</th>\n",
       "      <th>Phone Number</th>\n",
       "      <th>Gender</th>\n",
       "      <th>Satisfaction Rate</th>\n",
       "      <th>Avg Monthly Income</th>\n",
       "    </tr>\n",
       "  </thead>\n",
       "  <tbody>\n",
       "    <tr>\n",
       "      <th>0</th>\n",
       "      <td>2023-01-30 17:57:49</td>\n",
       "      <td>17</td>\n",
       "      <td>57</td>\n",
       "      <td>49</td>\n",
       "      <td>Abdulrahman Afifi</td>\n",
       "      <td>Egypt</td>\n",
       "      <td>22</td>\n",
       "      <td>abdulrahmanafifi33@gmail.com</td>\n",
       "      <td>Nardenk Sokağı, Abbasağa Mahallesi 34022, Ista...</td>\n",
       "      <td>90</td>\n",
       "      <td>NaN</td>\n",
       "      <td>Male</td>\n",
       "      <td>4</td>\n",
       "      <td>25000.0</td>\n",
       "    </tr>\n",
       "    <tr>\n",
       "      <th>1</th>\n",
       "      <td>2023-01-30 18:05:17</td>\n",
       "      <td>18</td>\n",
       "      <td>5</td>\n",
       "      <td>17</td>\n",
       "      <td>Alex John</td>\n",
       "      <td>Argentina</td>\n",
       "      <td>34</td>\n",
       "      <td>alex.john35@gmail.com</td>\n",
       "      <td>Ariensplein 1, Enschede, Netherlands</td>\n",
       "      <td>31</td>\n",
       "      <td>NaN</td>\n",
       "      <td>Male</td>\n",
       "      <td>3</td>\n",
       "      <td>34000.0</td>\n",
       "    </tr>\n",
       "    <tr>\n",
       "      <th>2</th>\n",
       "      <td>2023-01-30 18:08:13</td>\n",
       "      <td>18</td>\n",
       "      <td>8</td>\n",
       "      <td>13</td>\n",
       "      <td>Rebecca David</td>\n",
       "      <td>London</td>\n",
       "      <td>45</td>\n",
       "      <td>rebecca49david@gmail.com</td>\n",
       "      <td>Beşiktaş İstanbul ıhlamurdere caddesi, Aşık Ga...</td>\n",
       "      <td>41</td>\n",
       "      <td>NaN</td>\n",
       "      <td>Female</td>\n",
       "      <td>1</td>\n",
       "      <td>12000.0</td>\n",
       "    </tr>\n",
       "  </tbody>\n",
       "</table>\n",
       "</div>"
      ],
      "text/plain": [
       "            Timestamp  hour  minute  second               Name    Country  \\\n",
       "0 2023-01-30 17:57:49    17      57      49  Abdulrahman Afifi      Egypt   \n",
       "1 2023-01-30 18:05:17    18       5      17          Alex John  Argentina   \n",
       "2 2023-01-30 18:08:13    18       8      13      Rebecca David     London   \n",
       "\n",
       "   Age                         Email  \\\n",
       "0   22  abdulrahmanafifi33@gmail.com   \n",
       "1   34         alex.john35@gmail.com   \n",
       "2   45      rebecca49david@gmail.com   \n",
       "\n",
       "                                             Address Country Code  \\\n",
       "0  Nardenk Sokağı, Abbasağa Mahallesi 34022, Ista...           90   \n",
       "1               Ariensplein 1, Enschede, Netherlands           31   \n",
       "2  Beşiktaş İstanbul ıhlamurdere caddesi, Aşık Ga...           41   \n",
       "\n",
       "   Phone Number  Gender  Satisfaction Rate  Avg Monthly Income  \n",
       "0           NaN    Male                  4             25000.0  \n",
       "1           NaN    Male                  3             34000.0  \n",
       "2           NaN  Female                  1             12000.0  "
      ]
     },
     "execution_count": 362,
     "metadata": {},
     "output_type": "execute_result"
    }
   ],
   "source": [
    "df['Phone number'] = [str(x) for x in df['Phone number']]\n",
    "df['Country Code'] = [x[:2] for x in df['Phone number']]\n",
    "df['Phone number'] = [x[-10:] for x in df['Phone number']]\n",
    "\n",
    "##rearranging order of columns\n",
    "column_titles = ['Timestamp','hour','minute','second', 'Name', 'Country', 'Age', 'Email', 'Address', 'Country Code', 'Phone Number',\n",
    " 'Gender', 'Satisfaction Rate', 'Avg Monthly Income']\n",
    "df = df.reindex(columns=column_titles)\n",
    "\n",
    "df.head()"
   ]
  },
  {
   "cell_type": "code",
   "execution_count": 363,
   "metadata": {},
   "outputs": [
    {
     "data": {
      "text/plain": [
       "Timestamp             datetime64[ns]\n",
       "hour                           int64\n",
       "minute                         int64\n",
       "second                         int64\n",
       "Name                          object\n",
       "Country                       object\n",
       "Age                            int64\n",
       "Email                         object\n",
       "Address                       object\n",
       "Country Code                  object\n",
       "Phone Number                 float64\n",
       "Gender                        object\n",
       "Satisfaction Rate              int64\n",
       "Avg Monthly Income           float64\n",
       "dtype: object"
      ]
     },
     "execution_count": 363,
     "metadata": {},
     "output_type": "execute_result"
    }
   ],
   "source": [
    "df.dtypes"
   ]
  },
  {
   "cell_type": "code",
   "execution_count": 364,
   "metadata": {},
   "outputs": [
    {
     "name": "stderr",
     "output_type": "stream",
     "text": [
      "C:\\Users\\abdul\\AppData\\Local\\Temp\\ipykernel_2900\\3405749701.py:2: FutureWarning: The default value of numeric_only in DataFrame.skew is deprecated. In a future version, it will default to False. In addition, specifying 'numeric_only=None' is deprecated. Select only valid columns or specify the value of numeric_only to silence this warning.\n",
      "  df.skew(axis = 0, skipna = True)\n"
     ]
    },
    {
     "data": {
      "text/plain": [
       "hour                 -1.732051\n",
       "minute                1.711498\n",
       "second                1.652317\n",
       "Age                  -0.130284\n",
       "Country Code          1.538663\n",
       "Phone Number               NaN\n",
       "Satisfaction Rate    -0.935220\n",
       "Avg Monthly Income   -0.534591\n",
       "dtype: float64"
      ]
     },
     "execution_count": 364,
     "metadata": {},
     "output_type": "execute_result"
    }
   ],
   "source": [
    "\n",
    "# skewness along the index axis\n",
    "df.skew(axis = 0, skipna = True)"
   ]
  },
  {
   "cell_type": "code",
   "execution_count": 365,
   "metadata": {},
   "outputs": [
    {
     "name": "stdout",
     "output_type": "stream",
     "text": [
      "0    0.147643\n",
      "1    1.144231\n",
      "2   -1.291874\n",
      "Name: Avg Monthly Income, dtype: float64\n"
     ]
    }
   ],
   "source": [
    "z_score = stats.zscore(df['Avg Monthly Income'])\n",
    "print(z_score)"
   ]
  },
  {
   "cell_type": "code",
   "execution_count": null,
   "metadata": {},
   "outputs": [],
   "source": [
    "df_Male = df.groupby('Gender').get_group('Male')\n",
    "df_Female = df.groupby('Gender').get_group('Female')\n",
    "\n",
    "df_avgincome_male = df_Male['Avg Monthly Income'].mean()\n",
    "df_avgincome_female = df_Female['Avg Monthly Income'].mean()\n",
    "\n",
    "data1 = [df_avgincome_male, df_avgincome_female]"
   ]
  },
  {
   "cell_type": "code",
   "execution_count": null,
   "metadata": {},
   "outputs": [
    {
     "data": {
      "image/png": "[encoded data removed]",
      "text/plain": [
       "<Figure size 1000x700 with 1 Axes>"
      ]
     },
     "metadata": {},
     "output_type": "display_data"
    }
   ],
   "source": []
  }
 ],
 "metadata": {
  "kernelspec": {
   "display_name": "base",
   "language": "python",
   "name": "python3"
  },
  "language_info": {
   "codemirror_mode": {
    "name": "ipython",
    "version": 3
   },
   "file_extension": ".py",
   "mimetype": "text/x-python",
   "name": "python",
   "nbconvert_exporter": "python",
   "pygments_lexer": "ipython3",
   "version": "3.9.13"
  },
  "orig_nbformat": 4,
  "vscode": {
   "interpreter": {
    "hash": "7ea3a11aaa978d9646058336c84c9a0218aba8c5d679a7a8e354537b3f287648"
   }
  }
 },
 "nbformat": 4,
 "nbformat_minor": 2
}
